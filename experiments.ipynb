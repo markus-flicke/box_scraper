{
 "cells": [
  {
   "cell_type": "code",
   "execution_count": 1,
   "metadata": {},
   "outputs": [
    {
     "name": "stdout",
     "output_type": "stream",
     "text": [
      "Started download: zzzbzurhpz\n"
     ]
    }
   ],
   "source": [
    "from selenium.webdriver.common.by import By\n",
    "from webdriver import create_webdriver\n",
    "import time\n",
    "\n",
    "base_url = 'https://utexas.app.box.com/s/evo96v5md4r8nooma3z17kcnfjzp2wed?page='\n",
    "\n",
    "def scrape_page(driver, page_n=1, delay_between_downloads=60):\n",
    "    \"\"\"\n",
    "    Scrapes one page of this Box page.\n",
    "    \"\"\"\n",
    "    \n",
    "    driver.get(base_url + str(page_n))\n",
    "\n",
    "    folder_divs = driver.find_elements(by=By.CLASS_NAME, value='item-name')\n",
    "\n",
    "    from selenium.webdriver import ActionChains\n",
    "    for folder_div in folder_divs:\n",
    "        action = ActionChains(driver)\n",
    "        action.context_click(folder_div).perform()\n",
    "        driver.find_elements(by=By.CLASS_NAME, value='DownloadMenuItem')[0].click()\n",
    "        driver.find_elements(by=By.CLASS_NAME, value='modal-close-button')[0].click()\n",
    "        print('Started download: ' + folder_div.text)\n",
    "        time.sleep(delay_between_downloads)\n",
    "\n",
    "driver = create_webdriver()\n",
    "for page_n in range(1,88):\n",
    "    scrape_page(driver, page_n=page_n)"
   ]
  },
  {
   "cell_type": "code",
   "execution_count": null,
   "metadata": {},
   "outputs": [],
   "source": []
  }
 ],
 "metadata": {
  "kernelspec": {
   "display_name": "Python 3",
   "language": "python",
   "name": "python3"
  },
  "language_info": {
   "codemirror_mode": {
    "name": "ipython",
    "version": 3
   },
   "file_extension": ".py",
   "mimetype": "text/x-python",
   "name": "python",
   "nbconvert_exporter": "python",
   "pygments_lexer": "ipython3",
   "version": "3.10.6"
  },
  "orig_nbformat": 4,
  "vscode": {
   "interpreter": {
    "hash": "916dbcbb3f70747c44a77c7bcd40155683ae19c65e1c03b4aa3499c5328201f1"
   }
  }
 },
 "nbformat": 4,
 "nbformat_minor": 2
}
